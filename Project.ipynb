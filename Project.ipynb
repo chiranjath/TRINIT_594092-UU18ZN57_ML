{
 "cells": [
  {
   "cell_type": "code",
   "execution_count": null,
   "id": "4b4b515a",
   "metadata": {},
   "outputs": [],
   "source": []
  },
  {
   "cell_type": "code",
   "execution_count": 35,
   "id": "4893bd0d",
   "metadata": {},
   "outputs": [],
   "source": [
    "import numpy as np\n",
    "import pandas as pd\n",
    "import h5py\n",
    "d=h5py.File('dataset.h5','r')\n",
    "t=pd.DataFrame(np.array(d['RetrievalGeometry']['retrieval_latitude']))\n",
    "p=pd.DataFrame(np.array(d['PreprocessingResults']['fluorescence_radiance_757nm_idp']))\n",
    "v=pd.DataFrame(np.array(d['RetrievalGeometry']['retrieval_longitude']))\n",
    "l=pd.DataFrame(np.array(d['PreprocessingResults']['fluorescence_radiance_771nm_idp']))\n"
   ]
  },
  {
   "cell_type": "code",
   "execution_count": null,
   "id": "a61d9710",
   "metadata": {},
   "outputs": [],
   "source": []
  }
 ],
 "metadata": {
  "kernelspec": {
   "display_name": "Python 3 (ipykernel)",
   "language": "python",
   "name": "python3"
  },
  "language_info": {
   "codemirror_mode": {
    "name": "ipython",
    "version": 3
   },
   "file_extension": ".py",
   "mimetype": "text/x-python",
   "name": "python",
   "nbconvert_exporter": "python",
   "pygments_lexer": "ipython3",
   "version": "3.9.13"
  }
 },
 "nbformat": 4,
 "nbformat_minor": 5
}
